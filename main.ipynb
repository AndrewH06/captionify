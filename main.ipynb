{
 "cells": [
  {
   "cell_type": "code",
   "execution_count": 1,
   "metadata": {},
   "outputs": [],
   "source": [
    "# # all our imports\n",
    "# import pandas as pd\n",
    "# import tensorflow as tf\n",
    "# from tensorflow.keras import Model\n",
    "# from os import listdir\n",
    "# from keras.preprocessing.image import load_img\n",
    "# from keras.preprocessing.image import img_to_array\n",
    "# from keras.applications.vgg16 import preprocess_input\n",
    "# from keras.models import Model\n",
    "# from pickle import dump\n",
    "# from pickle import load\n",
    "# import emoji\n",
    "# import advertools as adv\n",
    "# from sklearn.model_selection import train_test_split"
   ]
  },
  {
   "cell_type": "code",
   "execution_count": 2,
   "metadata": {},
   "outputs": [],
   "source": [
    "# def extract_features(directory):\n",
    "#     model = tf.keras.applications.VGG16()\n",
    "#     model = Model(inputs=model.inputs, outputs=model.layers[-2].output)\n",
    "#     print(model.summary())\n",
    "#     features = dict()\n",
    "#     for name in listdir(directory):\n",
    "#         filename = directory + '/' + name\n",
    "#         image = load_img(filename, target_size=(224, 224))\n",
    "#         image = img_to_array(image)\n",
    "#         image = image.reshape((1, image.shape[0], image.shape[1], image.shape[2]))\n",
    "#     image = preprocess_input(image)\n",
    "#     feature = model.predict(image, verbose=0)\n",
    "#     image_id = name.split('.')[0]\n",
    "#     features[image_id] = feature\n",
    "#     return features\n",
    "\n",
    "# directory = 'instagram_data/img'\n",
    "# features = extract_features(directory)\n",
    "# print('Extracted Features: %d' % len(features))\n",
    "# dump(features, open('features.pkl', 'wb'))"
   ]
  },
  {
   "cell_type": "code",
   "execution_count": 3,
   "metadata": {},
   "outputs": [],
   "source": [
    "# print(len(features['insta8959']))"
   ]
  },
  {
   "cell_type": "code",
   "execution_count": 4,
   "metadata": {},
   "outputs": [],
   "source": [
    "# import pandas as pd\n",
    "# def load_doc(filename):\n",
    "#     df = pd.read_csv(filename)\n",
    "#     # Remove  na values\n",
    "#     df = df.dropna()\n",
    "#     # Drop the first column\n",
    "#     df = df.drop(df.columns[0], axis=1)\n",
    "#     # Rename Image File column to image_id\n",
    "#     df = df.rename(columns={\"Image File\": \"image_id\"})\n",
    "#     # In the image_id column, remove the file extension\n",
    "#     df['image_id'] = df['image_id'].str.replace('img/', '')\n",
    "#     # keep only the emojis in the caption\n",
    "#     df[\"Caption\"] = adv.extract_emoji(df[\"Caption\"])[\"emoji\"]\n",
    "\n",
    "#     # Turn the dataframe into a dictionary with the image_id as the key and the caption as the value\n",
    "#     captions = dict()\n",
    "#     for i in range(len(df)):\n",
    "#         image_id = df.iloc[i]['image_id']\n",
    "#         caption = df.iloc[i]['Caption']\n",
    "#         captions[image_id] = caption\n",
    "\n",
    "#     return captions\n",
    "    \n",
    "\n",
    "# filename = 'instagram_data/captions_csv.csv'\n",
    "# descriptions = load_doc(filename)\n",
    "# print(descriptions)"
   ]
  },
  {
   "cell_type": "code",
   "execution_count": 5,
   "metadata": {},
   "outputs": [],
   "source": [
    "# def to_vocabulary(descriptions):\n",
    "#     # build a list of all description strings\n",
    "#     all_desc = set()\n",
    "#     # Split the descriptions into words and add them to the set\n",
    "#     for key in descriptions.keys():\n",
    "#         [all_desc.update(d.split()) for d in descriptions[key].split()]\n",
    "#     return all_desc\n",
    " \n",
    "# # summarize vocabulary\n",
    "# vocabulary = to_vocabulary(descriptions)\n",
    "# print(vocabulary)\n",
    "# print(len(vocabulary))"
   ]
  },
  {
   "cell_type": "code",
   "execution_count": 6,
   "metadata": {},
   "outputs": [],
   "source": [
    "# def save_descriptions(descriptions, filename):\n",
    "# \tlines = list()\n",
    "\t\n",
    "# \tfor key, desc in descriptions.items():\n",
    "# \t\tnew_desc = \"\"\n",
    "# \t\tif desc == []:\n",
    "# \t\t\tcontinue\n",
    "# \t\telse:\n",
    "# \t\t\tfor element in desc:\n",
    "# \t\t\t\tnew_desc += element\n",
    "# \t\t\tlines.append(key + \" \" + new_desc)\n",
    "\n",
    "# \tdata = '\\n'.join(lines)\n",
    "# \tfile = open(filename, 'w')\n",
    "# \tfile.write(data)\n",
    "# \tfile.close()\n",
    "\n",
    "# save_descriptions(descriptions, 'descriptions.txt')"
   ]
  },
  {
   "cell_type": "code",
   "execution_count": 7,
   "metadata": {},
   "outputs": [],
   "source": [
    "# desc = []\n",
    "# file = open(\"descriptions.txt\")\n",
    "# for element in file:\n",
    "#     identifier = element.split(\" \")[0]\n",
    "#     desc.append(identifier)\n",
    "# train, test = train_test_split(desc, test_size = 0.20, random_state = 10)\n",
    "# print(train)\n",
    "# len(train)"
   ]
  },
  {
   "cell_type": "code",
   "execution_count": 8,
   "metadata": {},
   "outputs": [
    {
     "name": "stderr",
     "output_type": "stream",
     "text": [
      "2024-03-01 12:39:18.343468: I tensorflow/core/platform/cpu_feature_guard.cc:182] This TensorFlow binary is optimized to use available CPU instructions in performance-critical operations.\n",
      "To enable the following instructions: AVX2 FMA, in other operations, rebuild TensorFlow with the appropriate compiler flags.\n"
     ]
    }
   ],
   "source": [
    "import os\n",
    "import pickle\n",
    "import numpy as np\n",
    "from tensorflow.keras.applications.vgg16 import VGG16 , preprocess_input\n",
    "from tensorflow.keras.preprocessing.image import load_img , img_to_array\n",
    "from tensorflow.keras.preprocessing.text import Tokenizer\n",
    "from tensorflow.keras.preprocessing.sequence import pad_sequences\n",
    "from tensorflow.keras.models import Model\n",
    "from tensorflow.keras.utils import to_categorical, plot_model\n",
    "from tensorflow.keras.layers import Input , Dense , LSTM , Embedding , Dropout , add\n",
    "from sklearn.model_selection import train_test_split"
   ]
  },
  {
   "cell_type": "code",
   "execution_count": 9,
   "metadata": {},
   "outputs": [],
   "source": [
    "base_direct = \"archive\""
   ]
  },
  {
   "cell_type": "code",
   "execution_count": 10,
   "metadata": {},
   "outputs": [
    {
     "name": "stdout",
     "output_type": "stream",
     "text": [
      "Model: \"model\"\n",
      "_________________________________________________________________\n",
      " Layer (type)                Output Shape              Param #   \n",
      "=================================================================\n",
      " input_1 (InputLayer)        [(None, 224, 224, 3)]     0         \n",
      "                                                                 \n",
      " block1_conv1 (Conv2D)       (None, 224, 224, 64)      1792      \n",
      "                                                                 \n",
      " block1_conv2 (Conv2D)       (None, 224, 224, 64)      36928     \n",
      "                                                                 \n",
      " block1_pool (MaxPooling2D)  (None, 112, 112, 64)      0         \n",
      "                                                                 \n",
      " block2_conv1 (Conv2D)       (None, 112, 112, 128)     73856     \n",
      "                                                                 \n",
      " block2_conv2 (Conv2D)       (None, 112, 112, 128)     147584    \n",
      "                                                                 \n",
      " block2_pool (MaxPooling2D)  (None, 56, 56, 128)       0         \n",
      "                                                                 \n",
      " block3_conv1 (Conv2D)       (None, 56, 56, 256)       295168    \n",
      "                                                                 \n",
      " block3_conv2 (Conv2D)       (None, 56, 56, 256)       590080    \n",
      "                                                                 \n",
      " block3_conv3 (Conv2D)       (None, 56, 56, 256)       590080    \n",
      "                                                                 \n",
      " block3_pool (MaxPooling2D)  (None, 28, 28, 256)       0         \n",
      "                                                                 \n",
      " block4_conv1 (Conv2D)       (None, 28, 28, 512)       1180160   \n",
      "                                                                 \n",
      " block4_conv2 (Conv2D)       (None, 28, 28, 512)       2359808   \n",
      "                                                                 \n",
      " block4_conv3 (Conv2D)       (None, 28, 28, 512)       2359808   \n",
      "                                                                 \n",
      " block4_pool (MaxPooling2D)  (None, 14, 14, 512)       0         \n",
      "                                                                 \n",
      " block5_conv1 (Conv2D)       (None, 14, 14, 512)       2359808   \n",
      "                                                                 \n",
      " block5_conv2 (Conv2D)       (None, 14, 14, 512)       2359808   \n",
      "                                                                 \n",
      " block5_conv3 (Conv2D)       (None, 14, 14, 512)       2359808   \n",
      "                                                                 \n",
      " block5_pool (MaxPooling2D)  (None, 7, 7, 512)         0         \n",
      "                                                                 \n",
      " flatten (Flatten)           (None, 25088)             0         \n",
      "                                                                 \n",
      " fc1 (Dense)                 (None, 4096)              102764544 \n",
      "                                                                 \n",
      " fc2 (Dense)                 (None, 4096)              16781312  \n",
      "                                                                 \n",
      "=================================================================\n",
      "Total params: 134260544 (512.16 MB)\n",
      "Trainable params: 134260544 (512.16 MB)\n",
      "Non-trainable params: 0 (0.00 Byte)\n",
      "_________________________________________________________________\n",
      "None\n"
     ]
    }
   ],
   "source": [
    "vgg = VGG16()\n",
    "\n",
    "model = Model(inputs = vgg.inputs, outputs = vgg.layers[-2].output)\n",
    "print(model.summary())"
   ]
  },
  {
   "cell_type": "code",
   "execution_count": 11,
   "metadata": {},
   "outputs": [],
   "source": [
    "# base_direct = '/archive'  # Update with the correct base directory path\n",
    "# directory = os.path.join(base_direct, \"Images\")\n",
    "\n",
    "# # Check if the directory exists\n",
    "# if os.path.exists(directory):\n",
    "#     # Proceed with your code to process images\n",
    "#     for img_name in os.listdir(directory):\n",
    "#         img_path = os.path.join(directory, img_name)\n",
    "#         # Process each image...\n",
    "# else:\n",
    "#     print(f\"Directory '{directory}' not found.\")"
   ]
  },
  {
   "cell_type": "code",
   "execution_count": 12,
   "metadata": {},
   "outputs": [],
   "source": [
    "features = {}\n",
    "directory = os.path.join(base_direct, \"Images\")\n",
    "\n",
    "for img_name in os.listdir(directory):\n",
    "    img_path = directory + \"/\" + img_name\n",
    "    image = load_img(img_path, target_size = (224, 224))\n",
    "    image = img_to_array(image)\n",
    "    image = image.reshape((1, image.shape[0], image.shape[1], image.shape[2]))\n",
    "    image = preprocess_input(image)\n",
    "    feature = model.predict(image, verbose = 0)\n",
    "    image_id = img_name.split(\".\")[0]\n",
    "    features[image_id] = feature"
   ]
  },
  {
   "cell_type": "code",
   "execution_count": 13,
   "metadata": {},
   "outputs": [],
   "source": [
    "pickle.dump(features, open(\"features.pkl\", \"wb\"))\n",
    "with open(\"features.pkl\", \"rb\") as f:\n",
    "    features = pickle.load(f)"
   ]
  },
  {
   "cell_type": "code",
   "execution_count": 14,
   "metadata": {},
   "outputs": [
    {
     "name": "stdout",
     "output_type": "stream",
     "text": [
      "8091\n"
     ]
    }
   ],
   "source": [
    "with open(os.path.join(base_direct, 'captions.txt')) as f:\n",
    "    next(f)\n",
    "    captions_doc = f.read()\n",
    "\n",
    "mapping = {}\n",
    "for line in captions_doc.split(\"\\n\"):\n",
    "    tokens = line.split(\",\")\n",
    "    if len(line) < 2:\n",
    "        continue\n",
    "    image_id, caption = tokens[0], tokens[1:]\n",
    "    image_id = image_id.split(\".\")[0]\n",
    "    caption = \" \".join(caption)\n",
    "    if image_id not in mapping:\n",
    "        mapping[image_id] = []\n",
    "    mapping[image_id].append(caption)\n",
    "print(len(mapping))"
   ]
  },
  {
   "cell_type": "code",
   "execution_count": 15,
   "metadata": {},
   "outputs": [
    {
     "data": {
      "text/plain": [
       "['child in pink dress is climbing up set of stairs in an entry way',\n",
       " 'girl going into wooden building',\n",
       " 'little girl climbing into wooden playhouse',\n",
       " 'little girl climbing the stairs to her playhouse',\n",
       " 'little girl in pink dress going into wooden cabin']"
      ]
     },
     "execution_count": 15,
     "metadata": {},
     "output_type": "execute_result"
    }
   ],
   "source": [
    "def clean(mapping):\n",
    "    for id, captions in mapping.items():\n",
    "        for x in range(len(captions)):\n",
    "            caption = captions[x]\n",
    "            caption = caption.lower()\n",
    "            # delete digits, special chars, etc., \n",
    "            caption = caption.replace('[^A-Za-z]', '')\n",
    "            caption = \" \".join(caption.split())\n",
    "            caption = \" \".join([word for word in caption.split() if len(word)>1])\n",
    "            captions[x] = caption\n",
    "mapping['1000268201_693b08cb0e']\n",
    "clean(mapping)\n",
    "mapping['1000268201_693b08cb0e']"
   ]
  },
  {
   "cell_type": "code",
   "execution_count": 16,
   "metadata": {},
   "outputs": [],
   "source": [
    "all_cap = []\n",
    "for key in mapping:\n",
    "    for caption in mapping[key]:\n",
    "        all_cap.append(caption)"
   ]
  },
  {
   "cell_type": "code",
   "execution_count": 17,
   "metadata": {},
   "outputs": [
    {
     "data": {
      "text/plain": [
       "8483"
      ]
     },
     "execution_count": 17,
     "metadata": {},
     "output_type": "execute_result"
    }
   ],
   "source": [
    "tokenizer = Tokenizer()\n",
    "tokenizer.fit_on_texts(all_cap)\n",
    "vocab_size = len(tokenizer.word_index) + 1\n",
    "vocab_size"
   ]
  },
  {
   "cell_type": "code",
   "execution_count": 18,
   "metadata": {},
   "outputs": [
    {
     "data": {
      "text/plain": [
       "33"
      ]
     },
     "execution_count": 18,
     "metadata": {},
     "output_type": "execute_result"
    }
   ],
   "source": [
    "max_length = max(len(caption.split()) for caption in all_cap)\n",
    "max_length"
   ]
  },
  {
   "cell_type": "code",
   "execution_count": 19,
   "metadata": {},
   "outputs": [],
   "source": [
    "#train test split\n",
    "image_ids = list(mapping.keys())\n",
    "train, test = train_test_split(image_ids, test_size=0.2, random_state=42)"
   ]
  },
  {
   "cell_type": "code",
   "execution_count": 20,
   "metadata": {},
   "outputs": [],
   "source": [
    "#getting batch, for sequence to sequence model\n",
    "def data_generator(data_keys, mapping, features, tokenizer, max_length, vocab_size, batch_size):\n",
    "    X1, X2, y = list(), list(), list()\n",
    "    n = 0\n",
    "    while 1:\n",
    "        for key in data_keys:\n",
    "            n += 1\n",
    "            captions = mapping[key]\n",
    "            for c in captions:\n",
    "                seq = tokenizer.texts_to_sequences([c])[0]\n",
    "                for i in range(1, len(seq)):\n",
    "                    in_seq, out_seq = seq[:i], seq[i]\n",
    "                    in_seq = pad_sequences([in_seq], maxlen=max_length)[0]\n",
    "                    out_seq = to_categorical([out_seq],num_classes=vocab_size)[0]\n",
    "                    X1.append(features[key][0])\n",
    "                    X2.append(in_seq)\n",
    "                    y.append(out_seq)\n",
    "            if n == batch_size:\n",
    "                X1, X2, y = np.array(X1), np.array(X2), np.array(y)\n",
    "                yield [X1, X2], y\n",
    "                X1, X2, y = list(), list(), list()\n",
    "                n = 0"
   ]
  },
  {
   "cell_type": "code",
   "execution_count": 21,
   "metadata": {},
   "outputs": [
    {
     "name": "stdout",
     "output_type": "stream",
     "text": [
      "You must install pydot (`pip install pydot`) and install graphviz (see instructions at https://graphviz.gitlab.io/download/) for plot_model to work.\n"
     ]
    }
   ],
   "source": [
    "inputs1 = Input(shape=(4096,))\n",
    "fe1 = Dropout(0.4)(inputs1)\n",
    "fe2 = Dense(256, activation='relu')(fe1)\n",
    "inputs2 = Input(shape=(max_length,))\n",
    "se1 = Embedding(vocab_size, 256, mask_zero=True)(inputs2)\n",
    "se2 = Dropout(0.4)(se1)\n",
    "se3 = LSTM(256)(se2)\n",
    "decoder1 = add([fe2, se3])\n",
    "decoder2 = Dense(256, activation='relu')(decoder1)\n",
    "outputs = Dense(vocab_size, activation='softmax')(decoder2)\n",
    "\n",
    "model = Model(inputs=[inputs1, inputs2], outputs=outputs)\n",
    "model.compile(loss='categorical_crossentropy', optimizer='adam')\n",
    "\n",
    "plot_model(model, show_shapes=True)"
   ]
  },
  {
   "cell_type": "code",
   "execution_count": 22,
   "metadata": {},
   "outputs": [],
   "source": [
    "def data_generator(data_keys, mapping, features, tokenizer, max_length, vocab_size, batch_size):\n",
    "    # loop over images\n",
    "    X1, X2, y = list(), list(), list()\n",
    "    n = 0\n",
    "    while 1:\n",
    "        for key in data_keys:\n",
    "            n += 1\n",
    "            captions = mapping[key]\n",
    "            # process each caption\n",
    "            for caption in captions:\n",
    "                # encode the sequence\n",
    "                seq = tokenizer.texts_to_sequences([caption])[0]\n",
    "                # split the sequence into X, y pairs\n",
    "                for i in range(1, len(seq)):\n",
    "                    # split into input and output pairs\n",
    "                    in_seq, out_seq = seq[:i], seq[i]\n",
    "                    # pad input sequence\n",
    "                    in_seq = pad_sequences([in_seq], maxlen=max_length)[0]\n",
    "                    # encode output sequence\n",
    "                    out_seq = to_categorical([out_seq],num_classes=vocab_size)[0]\n",
    "                    # store the sequences\n",
    "                    X1.append(features[key][0])\n",
    "                    X2.append(in_seq)\n",
    "                    y.append(out_seq)\n",
    "            if n == batch_size:\n",
    "                X1, X2, y = np.array(X1), np.array(X2), np.array(y)\n",
    "                yield [X1, X2], y\n",
    "                X1, X2, y = list(), list(), list()\n",
    "                n = 0"
   ]
  },
  {
   "cell_type": "code",
   "execution_count": 24,
   "metadata": {},
   "outputs": [
    {
     "name": "stdout",
     "output_type": "stream",
     "text": [
      "Epoch 1/5\n",
      "64/64 [==============================] - 283s 4s/step - loss: 6.0417\n",
      "Epoch 2/5\n",
      "64/64 [==============================] - 285s 4s/step - loss: 5.2089\n",
      "Epoch 3/5\n",
      "64/64 [==============================] - 284s 4s/step - loss: 4.4303\n",
      "Epoch 4/5\n",
      "64/64 [==============================] - 284s 4s/step - loss: 3.9617\n",
      "Epoch 5/5\n",
      "64/64 [==============================] - 293s 5s/step - loss: 3.6762\n"
     ]
    },
    {
     "data": {
      "text/plain": [
       "<keras.src.callbacks.History at 0x7fdd513f6dd0>"
      ]
     },
     "execution_count": 24,
     "metadata": {},
     "output_type": "execute_result"
    }
   ],
   "source": [
    "epochs = 5\n",
    "batch_size = 100\n",
    "steps = len(train) // batch_size\n",
    "\n",
    "generator = data_generator(train, mapping, features, tokenizer, max_length, vocab_size, batch_size)\n",
    "model.fit(generator, epochs=5, steps_per_epoch=steps, verbose=1)"
   ]
  }
 ],
 "metadata": {
  "kernelspec": {
   "display_name": "Python 3",
   "language": "python",
   "name": "python3"
  },
  "language_info": {
   "codemirror_mode": {
    "name": "ipython",
    "version": 3
   },
   "file_extension": ".py",
   "mimetype": "text/x-python",
   "name": "python",
   "nbconvert_exporter": "python",
   "pygments_lexer": "ipython3",
   "version": "3.10.13"
  }
 },
 "nbformat": 4,
 "nbformat_minor": 2
}
